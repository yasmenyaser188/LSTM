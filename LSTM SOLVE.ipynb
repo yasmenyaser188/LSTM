{
 "cells": [
  {
   "cell_type": "code",
   "execution_count": 1,
   "id": "312f7125",
   "metadata": {},
   "outputs": [
    {
     "name": "stdout",
     "output_type": "stream",
     "text": [
      "Next Hidden State: [0.04333913 0.        ]\n",
      "Next Cell State: [0.08913563 0.        ]\n"
     ]
    }
   ],
   "source": [
    "import numpy as np\n",
    "\n",
    "def sigmoid(x):\n",
    "    return 1 / (1 + np.exp(-x))\n",
    "\n",
    "def lstm_step(x_t, h_prev, c_prev, W_f, W_i, W_o, W_c, b_f, b_i, b_o, b_c):\n",
    "    # Forget gate\n",
    "    f_t = sigmoid(np.dot(W_f, np.hstack((h_prev, x_t))) + b_f)\n",
    "    \n",
    "    # Input gate\n",
    "    i_t = sigmoid(np.dot(W_i, np.hstack((h_prev, x_t))) + b_i)\n",
    "    \n",
    "    # Candidate memory cell\n",
    "    c_tilde = np.tanh(np.dot(W_c, np.hstack((h_prev, x_t))) + b_c)\n",
    "    \n",
    "    # New cell state\n",
    "    c_t = f_t * c_prev + i_t * c_tilde\n",
    "    \n",
    "    # Output gate\n",
    "    o_t = sigmoid(np.dot(W_o, np.hstack((h_prev, x_t))) + b_o)\n",
    "    \n",
    "    # New hidden state\n",
    "    h_t = o_t * np.tanh(c_t)\n",
    "    \n",
    "    return h_t, c_t\n",
    "\n",
    "# Initialize arbitrary parameters\n",
    "input_dim = 1\n",
    "hidden_dim = 2  # Two hidden units\n",
    "\n",
    "# Weights and biases (arbitrary values)\n",
    "W_f = np.array([[0.5, -0.3, 0.2], [0.4, 0.1, -0.2]])\n",
    "W_i = np.array([[-0.2, 0.3, 0.4], [0.1, -0.5, 0.2]])\n",
    "W_o = np.array([[0.3, -0.4, 0.1], [-0.3, 0.2, 0.5]])\n",
    "W_c = np.array([[0.2, 0.1, -0.3], [-0.1, 0.4, 0.2]])\n",
    "\n",
    "b_f = np.array([0.1, -0.2])\n",
    "b_i = np.array([0.2, 0.3])\n",
    "b_o = np.array([-0.1, 0.2])\n",
    "b_c = np.array([0.3, -0.1])\n",
    "\n",
    "# Initial hidden and cell state\n",
    "h_prev = np.zeros(hidden_dim)\n",
    "c_prev = np.zeros(hidden_dim)\n",
    "\n",
    "# Input value\n",
    "x_t = np.array([0.5])\n",
    "\n",
    "# Compute the LSTM step\n",
    "h_next, c_next = lstm_step(x_t, h_prev, c_prev, W_f, W_i, W_o, W_c, b_f, b_i, b_o, b_c)\n",
    "\n",
    "print(\"Next Hidden State:\", h_next)\n",
    "print(\"Next Cell State:\", c_next)\n"
   ]
  },
  {
   "cell_type": "code",
   "execution_count": null,
   "id": "52bb49ed",
   "metadata": {},
   "outputs": [],
   "source": []
  }
 ],
 "metadata": {
  "kernelspec": {
   "display_name": "Python 3 (ipykernel)",
   "language": "python",
   "name": "python3"
  },
  "language_info": {
   "codemirror_mode": {
    "name": "ipython",
    "version": 3
   },
   "file_extension": ".py",
   "mimetype": "text/x-python",
   "name": "python",
   "nbconvert_exporter": "python",
   "pygments_lexer": "ipython3",
   "version": "3.9.7"
  }
 },
 "nbformat": 4,
 "nbformat_minor": 5
}
